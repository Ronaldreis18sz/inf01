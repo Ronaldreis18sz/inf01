{
  "nbformat": 4,
  "nbformat_minor": 0,
  "metadata": {
    "colab": {
      "provenance": [],
      "authorship_tag": "ABX9TyOuQYMOCd6JjRkIrlLASUCn",
      "include_colab_link": true
    },
    "kernelspec": {
      "name": "python3",
      "display_name": "Python 3"
    },
    "language_info": {
      "name": "python"
    }
  },
  "cells": [
    {
      "cell_type": "markdown",
      "metadata": {
        "id": "view-in-github",
        "colab_type": "text"
      },
      "source": [
        "<a href=\"https://colab.research.google.com/github/Ronaldreis18sz/inf01/blob/main/Untitled2.ipynb\" target=\"_parent\"><img src=\"https://colab.research.google.com/assets/colab-badge.svg\" alt=\"Open In Colab\"/></a>"
      ]
    },
    {
      "cell_type": "markdown",
      "source": [
        "Parte 1"
      ],
      "metadata": {
        "id": "cS9k3I0wQI5P"
      }
    },
    {
      "cell_type": "code",
      "execution_count": null,
      "metadata": {
        "id": "LRGgctPxQIjT"
      },
      "outputs": [],
      "source": [
        "import math\n",
        "\n",
        "def area_circulo(raio):\n",
        "    \"\"\"Calcula a área de um círculo dado o raio.\"\"\"\n",
        "    return math.pi * raio ** 2\n",
        "\n",
        "def area_retangulo(largura, altura):\n",
        "    \"\"\"Calcula a área de um retângulo dadas a largura e a altura.\"\"\"\n",
        "    return largura * altura\n",
        "\n",
        "def area_triangulo(base, altura):\n",
        "    \"\"\"Calcula a área de um triângulo dados a base e a altura.\"\"\"\n",
        "    return (base * altura) / 2\n",
        "\n",
        "def main():\n",
        "\n",
        "\n",
        "\n",
        "    raio = float(input(\"Digite o raio do círculo: \"))\n",
        "    print(f\"A área do círculo é: {area_circulo(raio):.2f}\")\n",
        "\n",
        "\n",
        "    largura = float(input(\"Digite a largura do retângulo: \"))\n",
        "    altura = float(input(\"Digite a altura do retângulo: \"))\n",
        "    print(f\"A área do retângulo é: {area_retangulo(largura, altura):.2f}\")\n",
        "\n",
        "\n",
        "    base = float(input(\"Digite a base do triângulo: \"))\n",
        "    altura = float(input(\"Digite a altura do triângulo: \"))\n",
        "    print(f\"A área do triângulo é: {area_triangulo(base, altura):.2f}\")\n",
        "\n",
        "if __name__ == \"__main__\":\n",
        "    main()"
      ]
    },
    {
      "cell_type": "markdown",
      "source": [
        "Parte 2"
      ],
      "metadata": {
        "id": "vH8rMwvqQSSG"
      }
    },
    {
      "cell_type": "code",
      "source": [],
      "metadata": {
        "id": "bd5yeX-EQUNN"
      },
      "execution_count": null,
      "outputs": []
    }
  ]
}