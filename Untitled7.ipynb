{
  "nbformat": 4,
  "nbformat_minor": 0,
  "metadata": {
    "colab": {
      "provenance": [],
      "authorship_tag": "ABX9TyPcT8CwaJPLWX624tf3gIFD",
      "include_colab_link": true
    },
    "kernelspec": {
      "name": "python3",
      "display_name": "Python 3"
    },
    "language_info": {
      "name": "python"
    }
  },
  "cells": [
    {
      "cell_type": "markdown",
      "metadata": {
        "id": "view-in-github",
        "colab_type": "text"
      },
      "source": [
        "<a href=\"https://colab.research.google.com/github/Ronaldreis18sz/inf01/blob/main/Untitled7.ipynb\" target=\"_parent\"><img src=\"https://colab.research.google.com/assets/colab-badge.svg\" alt=\"Open In Colab\"/></a>"
      ]
    },
    {
      "cell_type": "code",
      "execution_count": 1,
      "metadata": {
        "colab": {
          "base_uri": "https://localhost:8080/"
        },
        "id": "e2WrzFfkh8fa",
        "outputId": "67f24d9f-8ae9-45aa-bc5b-0e58b8fa09de"
      },
      "outputs": [
        {
          "output_type": "stream",
          "name": "stdout",
          "text": [
            "Digite o primeiro número: 1\n",
            "Digite o segundo número: 2\n",
            "\n",
            "Escolha a operação:\n",
            "1 - Soma\n",
            "2 - Subtração\n",
            "3 - Multiplicação\n",
            "4 - Divisão\n",
            "Digite o número da operação desejada: 1\n",
            "A soma de 1.0 + 2.0 é igual a 3.0\n"
          ]
        }
      ],
      "source": [
        "def soma(a, b):\n",
        "    return a + b\n",
        "\n",
        "\n",
        "def subtracao(a, b):\n",
        "    return a - b\n",
        "\n",
        "\n",
        "def multiplicacao(a, b):\n",
        "    return a * b\n",
        "\n",
        "\n",
        "def divisao(a, b):\n",
        "\n",
        "    if b != 0:\n",
        "        return a / b\n",
        "    else:\n",
        "        return \"Erro: divisão por zero\"\n",
        "\n",
        "\n",
        "numero1 = float(input(\"Digite o primeiro número: \"))\n",
        "numero2 = float(input(\"Digite o segundo número: \"))\n",
        "\n",
        "\n",
        "print(\"\\nEscolha a operação:\")\n",
        "print(\"1 - Soma\")\n",
        "print(\"2 - Subtração\")\n",
        "print(\"3 - Multiplicação\")\n",
        "print(\"4 - Divisão\")\n",
        "\n",
        "opcao = int(input(\"Digite o número da operação desejada: \"))\n",
        "\n",
        "\n",
        "if opcao == 1:\n",
        "    resultado = soma(numero1, numero2)\n",
        "    print(f\"A soma de {numero1} + {numero2} é igual a {resultado}\")\n",
        "elif opcao == 2:\n",
        "    resultado = subtracao(numero1, numero2)\n",
        "    print(f\"A subtração de {numero1} - {numero2} é igual a {resultado}\")\n",
        "elif opcao == 3:\n",
        "    resultado = multiplicacao(numero1, numero2)\n",
        "    print(f\"A multiplicação de {numero1} * {numero2} é igual a {resultado}\")\n",
        "elif opcao == 4:\n",
        "    resultado = divisao(numero1, numero2)\n",
        "    print(f\"A divisão de {numero1} / {numero2} é igual a {resultado}\")\n",
        "else:\n",
        "    print(\"Opção inválida. Por favor, escolha uma opção válida (1 a 4).\")"
      ]
    }
  ]
}